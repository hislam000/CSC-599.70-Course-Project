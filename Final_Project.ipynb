{
  "nbformat": 4,
  "nbformat_minor": 0,
  "metadata": {
    "colab": {
      "name": "Final_Project.ipynb",
      "provenance": [],
      "collapsed_sections": [],
      "include_colab_link": true
    },
    "kernelspec": {
      "name": "python3",
      "display_name": "Python 3"
    }
  },
  "cells": [
    {
      "cell_type": "markdown",
      "metadata": {
        "id": "view-in-github",
        "colab_type": "text"
      },
      "source": [
        "<a href=\"https://colab.research.google.com/github/hislam000/CSC-599.70-Course-Project/blob/master/Final_Project.ipynb\" target=\"_parent\"><img src=\"https://colab.research.google.com/assets/colab-badge.svg\" alt=\"Open In Colab\"/></a>"
      ]
    },
    {
      "cell_type": "code",
      "metadata": {
        "id": "afIUKt4SgFiz",
        "colab_type": "code",
        "colab": {}
      },
      "source": [
        "# Intro to Data Science, Fall 2019 @ CCNY\n",
        "# CSC-599.70-Course-Project\n",
        "# Final-Project\n",
        "# Team Member & Name: RentAdvisor (3-Member)\n",
        "\n",
        "# ABDUR RAFEY\n",
        "# HASIBUL ISLAM\n",
        "# DZHONIBEK PARMANKULOV"
      ],
      "execution_count": 0,
      "outputs": []
    },
    {
      "cell_type": "code",
      "metadata": {
        "id": "YbYWp3zj6Gua",
        "colab_type": "code",
        "colab": {}
      },
      "source": [
        "\n",
        "import numpy as np\n",
        "import pandas as pd\n",
        "import matplotlib.pyplot as plt\n",
        "\n",
        "from sklearn.linear_model import LinearRegression\n",
        "from sklearn.metrics import mean_squared_error\n",
        "from sklearn.ensemble import RandomForestRegressor\n",
        "import statsmodels.api as sm\n",
        "import warnings\n",
        "%matplotlib inline"
      ],
      "execution_count": 0,
      "outputs": []
    },
    {
      "cell_type": "code",
      "metadata": {
        "id": "FAlgCuoyB65Z",
        "colab_type": "code",
        "colab": {}
      },
      "source": [
        "train_df = pd.read_csv('https://grantmlong.com/data/SE_rents2018_train.csv', index_col=0)\n",
        "test_df = pd.read_csv('https://grantmlong.com/data/SE_rents2018_test1.csv', index_col=0)\n",
        "submit1_df = pd.read_csv('https://grantmlong.com/data/SE_rents2018_test3.csv', index_col=0)\n",
        "exdf = pd.read_csv('https://data.cityofnewyork.us/resource/43nn-pn8j.csv',index_col=0)\n",
        "#external dataset from new york open data\n",
        "#https://data.cityofnewyork.us/Health/DOHMH-New-York-City-Restaurant-Inspection-Results/43nn-pn8j\n"
      ],
      "execution_count": 0,
      "outputs": []
    },
    {
      "cell_type": "code",
      "metadata": {
        "id": "CnrJTxrCkmF2",
        "colab_type": "code",
        "outputId": "e1185e2e-5d06-49c9-8703-177f46833e6f",
        "colab": {
          "base_uri": "https://localhost:8080/",
          "height": 548
        }
      },
      "source": [
        "train_df.sample(5)"
      ],
      "execution_count": 0,
      "outputs": [
        {
          "output_type": "execute_result",
          "data": {
            "text/html": [
              "<div>\n",
              "<style scoped>\n",
              "    .dataframe tbody tr th:only-of-type {\n",
              "        vertical-align: middle;\n",
              "    }\n",
              "\n",
              "    .dataframe tbody tr th {\n",
              "        vertical-align: top;\n",
              "    }\n",
              "\n",
              "    .dataframe thead th {\n",
              "        text-align: right;\n",
              "    }\n",
              "</style>\n",
              "<table border=\"1\" class=\"dataframe\">\n",
              "  <thead>\n",
              "    <tr style=\"text-align: right;\">\n",
              "      <th></th>\n",
              "      <th>addr_unit</th>\n",
              "      <th>building_id</th>\n",
              "      <th>bedrooms</th>\n",
              "      <th>bathrooms</th>\n",
              "      <th>size_sqft</th>\n",
              "      <th>created_at</th>\n",
              "      <th>addr_street</th>\n",
              "      <th>addr_city</th>\n",
              "      <th>addr_zip</th>\n",
              "      <th>addr_lat</th>\n",
              "      <th>addr_lon</th>\n",
              "      <th>bin</th>\n",
              "      <th>bbl</th>\n",
              "      <th>floor_count</th>\n",
              "      <th>year_built</th>\n",
              "      <th>min_to_subway</th>\n",
              "      <th>has_doorman</th>\n",
              "      <th>has_elevator</th>\n",
              "      <th>has_fireplace</th>\n",
              "      <th>has_dishwasher</th>\n",
              "      <th>is_furnished</th>\n",
              "      <th>has_gym</th>\n",
              "      <th>allows_pets</th>\n",
              "      <th>has_washer_dryer</th>\n",
              "      <th>has_garage</th>\n",
              "      <th>has_roofdeck</th>\n",
              "      <th>has_concierge</th>\n",
              "      <th>has_pool</th>\n",
              "      <th>has_garden</th>\n",
              "      <th>has_childrens_playroom</th>\n",
              "      <th>rent</th>\n",
              "      <th>no_fee</th>\n",
              "      <th>description</th>\n",
              "      <th>neighborhood</th>\n",
              "      <th>borough</th>\n",
              "      <th>unit</th>\n",
              "      <th>floornumber</th>\n",
              "      <th>line</th>\n",
              "    </tr>\n",
              "    <tr>\n",
              "      <th>rental_id</th>\n",
              "      <th></th>\n",
              "      <th></th>\n",
              "      <th></th>\n",
              "      <th></th>\n",
              "      <th></th>\n",
              "      <th></th>\n",
              "      <th></th>\n",
              "      <th></th>\n",
              "      <th></th>\n",
              "      <th></th>\n",
              "      <th></th>\n",
              "      <th></th>\n",
              "      <th></th>\n",
              "      <th></th>\n",
              "      <th></th>\n",
              "      <th></th>\n",
              "      <th></th>\n",
              "      <th></th>\n",
              "      <th></th>\n",
              "      <th></th>\n",
              "      <th></th>\n",
              "      <th></th>\n",
              "      <th></th>\n",
              "      <th></th>\n",
              "      <th></th>\n",
              "      <th></th>\n",
              "      <th></th>\n",
              "      <th></th>\n",
              "      <th></th>\n",
              "      <th></th>\n",
              "      <th></th>\n",
              "      <th></th>\n",
              "      <th></th>\n",
              "      <th></th>\n",
              "      <th></th>\n",
              "      <th></th>\n",
              "      <th></th>\n",
              "      <th></th>\n",
              "    </tr>\n",
              "  </thead>\n",
              "  <tbody>\n",
              "    <tr>\n",
              "      <th>7291084</th>\n",
              "      <td>#2</td>\n",
              "      <td>1256671</td>\n",
              "      <td>1</td>\n",
              "      <td>1.0</td>\n",
              "      <td>600.0</td>\n",
              "      <td>2018-06-20 14:06:52</td>\n",
              "      <td>14-31 28 AVENUE</td>\n",
              "      <td>Astoria</td>\n",
              "      <td>11102</td>\n",
              "      <td>40.771757</td>\n",
              "      <td>-73.927645</td>\n",
              "      <td>4006077.0</td>\n",
              "      <td>4005390007</td>\n",
              "      <td>4.0</td>\n",
              "      <td>2013.0</td>\n",
              "      <td>6.7833</td>\n",
              "      <td>0</td>\n",
              "      <td>0</td>\n",
              "      <td>0</td>\n",
              "      <td>0</td>\n",
              "      <td>0</td>\n",
              "      <td>0</td>\n",
              "      <td>0</td>\n",
              "      <td>0</td>\n",
              "      <td>0</td>\n",
              "      <td>0</td>\n",
              "      <td>0</td>\n",
              "      <td>0</td>\n",
              "      <td>0</td>\n",
              "      <td>0</td>\n",
              "      <td>2400</td>\n",
              "      <td>0</td>\n",
              "      <td>This beautiful one-bedroom has beautiful cherr...</td>\n",
              "      <td>Astoria</td>\n",
              "      <td>Queens</td>\n",
              "      <td>2</td>\n",
              "      <td>2.0</td>\n",
              "      <td>NaN</td>\n",
              "    </tr>\n",
              "    <tr>\n",
              "      <th>7401403</th>\n",
              "      <td>#3D</td>\n",
              "      <td>135256</td>\n",
              "      <td>1</td>\n",
              "      <td>1.0</td>\n",
              "      <td>750.0</td>\n",
              "      <td>2018-07-25 13:18:33</td>\n",
              "      <td>56 NORTH 9 STREET</td>\n",
              "      <td>Brooklyn</td>\n",
              "      <td>11249</td>\n",
              "      <td>40.721056</td>\n",
              "      <td>-73.960381</td>\n",
              "      <td>3425621.0</td>\n",
              "      <td>3023090005</td>\n",
              "      <td>6.0</td>\n",
              "      <td>2018.0</td>\n",
              "      <td>4.3167</td>\n",
              "      <td>0</td>\n",
              "      <td>1</td>\n",
              "      <td>0</td>\n",
              "      <td>1</td>\n",
              "      <td>0</td>\n",
              "      <td>1</td>\n",
              "      <td>1</td>\n",
              "      <td>1</td>\n",
              "      <td>1</td>\n",
              "      <td>1</td>\n",
              "      <td>0</td>\n",
              "      <td>0</td>\n",
              "      <td>0</td>\n",
              "      <td>0</td>\n",
              "      <td>3150</td>\n",
              "      <td>1</td>\n",
              "      <td>Located in the heart of Williamsburg, 56N9 is ...</td>\n",
              "      <td>Williamsburg</td>\n",
              "      <td>Brooklyn</td>\n",
              "      <td>3D</td>\n",
              "      <td>3.0</td>\n",
              "      <td>D</td>\n",
              "    </tr>\n",
              "    <tr>\n",
              "      <th>7145041</th>\n",
              "      <td>#2</td>\n",
              "      <td>165301</td>\n",
              "      <td>2</td>\n",
              "      <td>1.0</td>\n",
              "      <td>850.0</td>\n",
              "      <td>2018-05-03 23:12:23</td>\n",
              "      <td>506 PRESIDENT STREET</td>\n",
              "      <td>Brooklyn</td>\n",
              "      <td>11215</td>\n",
              "      <td>40.677719</td>\n",
              "      <td>-73.986524</td>\n",
              "      <td>3007491.0</td>\n",
              "      <td>3004470026</td>\n",
              "      <td>2.0</td>\n",
              "      <td>1899.0</td>\n",
              "      <td>1.6667</td>\n",
              "      <td>0</td>\n",
              "      <td>0</td>\n",
              "      <td>0</td>\n",
              "      <td>0</td>\n",
              "      <td>0</td>\n",
              "      <td>0</td>\n",
              "      <td>0</td>\n",
              "      <td>0</td>\n",
              "      <td>0</td>\n",
              "      <td>0</td>\n",
              "      <td>0</td>\n",
              "      <td>0</td>\n",
              "      <td>0</td>\n",
              "      <td>0</td>\n",
              "      <td>2500</td>\n",
              "      <td>1</td>\n",
              "      <td>Large Light filled 2 bed 1 bath on sweet block...</td>\n",
              "      <td>Gowanus</td>\n",
              "      <td>Brooklyn</td>\n",
              "      <td>2</td>\n",
              "      <td>2.0</td>\n",
              "      <td>NaN</td>\n",
              "    </tr>\n",
              "    <tr>\n",
              "      <th>7411129</th>\n",
              "      <td>#1RNN</td>\n",
              "      <td>15763</td>\n",
              "      <td>1</td>\n",
              "      <td>1.0</td>\n",
              "      <td>600.0</td>\n",
              "      <td>2018-07-26 10:18:12</td>\n",
              "      <td>215 AVENUE A</td>\n",
              "      <td>New York</td>\n",
              "      <td>10009</td>\n",
              "      <td>40.730099</td>\n",
              "      <td>-73.980953</td>\n",
              "      <td>1083483.0</td>\n",
              "      <td>1004410033</td>\n",
              "      <td>5.0</td>\n",
              "      <td>1880.0</td>\n",
              "      <td>1.8667</td>\n",
              "      <td>0</td>\n",
              "      <td>0</td>\n",
              "      <td>0</td>\n",
              "      <td>0</td>\n",
              "      <td>0</td>\n",
              "      <td>0</td>\n",
              "      <td>0</td>\n",
              "      <td>0</td>\n",
              "      <td>0</td>\n",
              "      <td>0</td>\n",
              "      <td>0</td>\n",
              "      <td>0</td>\n",
              "      <td>0</td>\n",
              "      <td>0</td>\n",
              "      <td>2300</td>\n",
              "      <td>0</td>\n",
              "      <td>Brand New 1BR apt located on 13th Street  Ave ...</td>\n",
              "      <td>East Village</td>\n",
              "      <td>Manhattan</td>\n",
              "      <td>1RNN</td>\n",
              "      <td>1.0</td>\n",
              "      <td>RNN</td>\n",
              "    </tr>\n",
              "    <tr>\n",
              "      <th>7312189</th>\n",
              "      <td>#1B</td>\n",
              "      <td>643183</td>\n",
              "      <td>1</td>\n",
              "      <td>1.0</td>\n",
              "      <td>750.0</td>\n",
              "      <td>2018-06-27 14:01:08</td>\n",
              "      <td>268 72 STREET</td>\n",
              "      <td>Brooklyn</td>\n",
              "      <td>11209</td>\n",
              "      <td>40.633443</td>\n",
              "      <td>-74.027627</td>\n",
              "      <td>3147298.0</td>\n",
              "      <td>3059070036</td>\n",
              "      <td>3.0</td>\n",
              "      <td>1926.0</td>\n",
              "      <td>2.6667</td>\n",
              "      <td>0</td>\n",
              "      <td>0</td>\n",
              "      <td>0</td>\n",
              "      <td>0</td>\n",
              "      <td>0</td>\n",
              "      <td>0</td>\n",
              "      <td>0</td>\n",
              "      <td>0</td>\n",
              "      <td>0</td>\n",
              "      <td>0</td>\n",
              "      <td>0</td>\n",
              "      <td>0</td>\n",
              "      <td>0</td>\n",
              "      <td>0</td>\n",
              "      <td>1600</td>\n",
              "      <td>0</td>\n",
              "      <td>Apartment Specs:\\r\\n\\r\\n-New Hardwood floors\\r...</td>\n",
              "      <td>Bay Ridge</td>\n",
              "      <td>Brooklyn</td>\n",
              "      <td>1B</td>\n",
              "      <td>1.0</td>\n",
              "      <td>B</td>\n",
              "    </tr>\n",
              "  </tbody>\n",
              "</table>\n",
              "</div>"
            ],
            "text/plain": [
              "          addr_unit  building_id  bedrooms  ...  unit  floornumber line\n",
              "rental_id                                   ...                        \n",
              "7291084          #2      1256671         1  ...     2          2.0  NaN\n",
              "7401403         #3D       135256         1  ...    3D          3.0    D\n",
              "7145041          #2       165301         2  ...     2          2.0  NaN\n",
              "7411129       #1RNN        15763         1  ...  1RNN          1.0  RNN\n",
              "7312189         #1B       643183         1  ...    1B          1.0    B\n",
              "\n",
              "[5 rows x 38 columns]"
            ]
          },
          "metadata": {
            "tags": []
          },
          "execution_count": 20
        }
      ]
    },
    {
      "cell_type": "code",
      "metadata": {
        "id": "an9BG3lWk62X",
        "colab_type": "code",
        "colab": {}
      },
      "source": [
        "# extract usable features\n",
        "feature_cols = [\n",
        "    'bedrooms', 'year_built', 'bathrooms', 'min_to_subway', \n",
        "    'size_sqft', 'no_fee', 'has_doorman',\n",
        "    'addr_zip','floor_count',#'has_elevator',#'has_dishwasher',\t#'is_furnished',\t\n",
        "    'has_gym','allows_pets',#'has_garage',\n",
        "    'has_concierge',#'has_pool',#'has_garden',\t\n",
        "    #the reason of commenting out certain feature is because they are increasing mean squared error\n",
        "]\n",
        "train_features = train_df[feature_cols] \n",
        "\n",
        "# impute missing values with medians\n",
        "train_features = train_features.fillna(train_features.median(), axis=0)\n",
        "\n",
        "# construct target vector\n",
        "train_target = train_df['rent']"
      ],
      "execution_count": 0,
      "outputs": []
    },
    {
      "cell_type": "code",
      "metadata": {
        "id": "IHaxX8lQlAar",
        "colab_type": "code",
        "outputId": "b47a46e9-57d0-416b-b653-2325a7b7821d",
        "colab": {
          "base_uri": "https://localhost:8080/",
          "height": 34
        }
      },
      "source": [
        "# using linear regression method\n",
        "lreg = LinearRegression()\n",
        "lreg.fit(train_features, train_target)"
      ],
      "execution_count": 4,
      "outputs": [
        {
          "output_type": "execute_result",
          "data": {
            "text/plain": [
              "LinearRegression(copy_X=True, fit_intercept=True, n_jobs=None, normalize=False)"
            ]
          },
          "metadata": {
            "tags": []
          },
          "execution_count": 4
        }
      ]
    },
    {
      "cell_type": "code",
      "metadata": {
        "id": "hWLnowPWtQ9n",
        "colab_type": "code",
        "outputId": "ade8bc9b-a564-4a57-e463-39ed55a4060e",
        "colab": {
          "base_uri": "https://localhost:8080/",
          "height": 51
        }
      },
      "source": [
        "test_features = test_df[feature_cols] \n",
        "\n",
        "# impute missing values with medians\n",
        "test_features = test_features.fillna(train_features.median(), axis=0)\n",
        "\n",
        "# construct predictions \n",
        "test_df['predicted'] = lreg.predict(test_features)\n",
        "print(\"Prediction using Linear Regression train data against Test1:\")\n",
        "\n",
        "print(\"Mean Squared Error for Test1 using Linear Regression:\",mean_squared_error(test_df['rent'], test_df['predicted']))"
      ],
      "execution_count": 5,
      "outputs": [
        {
          "output_type": "stream",
          "text": [
            "Prediction using Linear Regression train data against Test1:\n",
            "Mean Squared Error for Test1 using Linear Regression: 3313817.143868871\n"
          ],
          "name": "stdout"
        }
      ]
    },
    {
      "cell_type": "code",
      "metadata": {
        "id": "f4MjN5yAtWkx",
        "colab_type": "code",
        "outputId": "1c805fbc-0ec7-4d2e-8df8-69b7aace9591",
        "colab": {
          "base_uri": "https://localhost:8080/",
          "height": 105
        }
      },
      "source": [
        "rf = RandomForestRegressor()\n",
        "rf.fit(train_features, train_target)\n",
        "\n",
        "# construct predictions \n",
        "test_df['predicted'] = rf.predict(test_features)\n",
        "print(\"Prediction using Random Forest Regressor train data against Test1:\")\n",
        "print(\"Mean Squared Error for Test1 using Random Forest Regressor:\",mean_squared_error(test_df['rent'], test_df['predicted']))"
      ],
      "execution_count": 6,
      "outputs": [
        {
          "output_type": "stream",
          "text": [
            "/usr/local/lib/python3.6/dist-packages/sklearn/ensemble/forest.py:245: FutureWarning: The default value of n_estimators will change from 10 in version 0.20 to 100 in 0.22.\n",
            "  \"10 in version 0.20 to 100 in 0.22.\", FutureWarning)\n"
          ],
          "name": "stderr"
        },
        {
          "output_type": "stream",
          "text": [
            "Prediction using Random Forest Regressor train data against Test1:\n",
            "Mean Squared Error for Test1 using Random Forest Regressor: 1854806.4735305747\n"
          ],
          "name": "stdout"
        }
      ]
    },
    {
      "cell_type": "code",
      "metadata": {
        "id": "Mc-qoXBW5bQs",
        "colab_type": "code",
        "colab": {}
      },
      "source": [
        "#joining training data and test1 data to incredase total training data\n",
        "master_df = train_df.append(test_df, sort=False)"
      ],
      "execution_count": 0,
      "outputs": []
    },
    {
      "cell_type": "code",
      "metadata": {
        "id": "RxNL0KwA5emY",
        "colab_type": "code",
        "colab": {
          "base_uri": "https://localhost:8080/",
          "height": 34
        },
        "outputId": "bd744d0e-0609-4e48-99d8-f584a318cbee"
      },
      "source": [
        "#setting external data\n",
        "cols=['dba','zipcode','grade']\n",
        "trnexdf=exdf[cols].dropna()\n",
        "print(trnexdf.shape)\n"
      ],
      "execution_count": 8,
      "outputs": [
        {
          "output_type": "stream",
          "text": [
            "(496, 3)\n"
          ],
          "name": "stdout"
        }
      ]
    },
    {
      "cell_type": "code",
      "metadata": {
        "id": "fSW6H_n161UG",
        "colab_type": "code",
        "colab": {
          "base_uri": "https://localhost:8080/",
          "height": 34
        },
        "outputId": "8a2a432e-78ec-4652-cbc8-43a6eb563963"
      },
      "source": [
        "#trnexdf=trnexdf[trnexdf.grade == 'A']\n",
        "#trnexdf.sort_values(by=['zipcode'])\n",
        "#trnexdf.zipcode.unique()\n",
        "#trnexdf.drop_duplicates(subset =\"zipcode\",keep = False, inplace = True) \n",
        "print(master_df.shape)"
      ],
      "execution_count": 9,
      "outputs": [
        {
          "output_type": "stream",
          "text": [
            "(14000, 39)\n"
          ],
          "name": "stdout"
        }
      ]
    },
    {
      "cell_type": "code",
      "metadata": {
        "id": "dEQJDne-7k6P",
        "colab_type": "code",
        "colab": {
          "base_uri": "https://localhost:8080/",
          "height": 390
        },
        "outputId": "2c9c9081-9bc1-4f06-9215-b68f814eae9b"
      },
      "source": [
        "#preparing dataset to join to training data\n",
        "tempfeat=['addr_zip','description','has_dishwasher']\n",
        "tempdf=master_df[tempfeat]\n",
        "tempdf=tempdf.rename(columns={\"addr_zip\": \"rest_zip\", \"description\": \"rest_grade\", \"has_dishwasher\": \"rest_name\"}, errors=\"raise\")\n",
        "\n",
        "#filling values\n",
        "for i in range(14000):\n",
        "         tempdf.iloc[i,1]='U'\n",
        "         tempdf.iloc[i,2]='Unknown'\n",
        "tempdf.sample(5)\n"
      ],
      "execution_count": 10,
      "outputs": [
        {
          "output_type": "execute_result",
          "data": {
            "text/html": [
              "<div>\n",
              "<style scoped>\n",
              "    .dataframe tbody tr th:only-of-type {\n",
              "        vertical-align: middle;\n",
              "    }\n",
              "\n",
              "    .dataframe tbody tr th {\n",
              "        vertical-align: top;\n",
              "    }\n",
              "\n",
              "    .dataframe thead th {\n",
              "        text-align: right;\n",
              "    }\n",
              "</style>\n",
              "<table border=\"1\" class=\"dataframe\">\n",
              "  <thead>\n",
              "    <tr style=\"text-align: right;\">\n",
              "      <th></th>\n",
              "      <th>rest_zip</th>\n",
              "      <th>rest_grade</th>\n",
              "      <th>rest_name</th>\n",
              "    </tr>\n",
              "    <tr>\n",
              "      <th>rental_id</th>\n",
              "      <th></th>\n",
              "      <th></th>\n",
              "      <th></th>\n",
              "    </tr>\n",
              "  </thead>\n",
              "  <tbody>\n",
              "    <tr>\n",
              "      <th>7212049</th>\n",
              "      <td>10024</td>\n",
              "      <td>U</td>\n",
              "      <td>Unknown</td>\n",
              "    </tr>\n",
              "    <tr>\n",
              "      <th>7468666</th>\n",
              "      <td>10025</td>\n",
              "      <td>U</td>\n",
              "      <td>Unknown</td>\n",
              "    </tr>\n",
              "    <tr>\n",
              "      <th>7368778</th>\n",
              "      <td>11211</td>\n",
              "      <td>U</td>\n",
              "      <td>Unknown</td>\n",
              "    </tr>\n",
              "    <tr>\n",
              "      <th>7466563</th>\n",
              "      <td>11102</td>\n",
              "      <td>U</td>\n",
              "      <td>Unknown</td>\n",
              "    </tr>\n",
              "    <tr>\n",
              "      <th>7237981</th>\n",
              "      <td>10011</td>\n",
              "      <td>U</td>\n",
              "      <td>Unknown</td>\n",
              "    </tr>\n",
              "    <tr>\n",
              "      <th>7321381</th>\n",
              "      <td>11213</td>\n",
              "      <td>U</td>\n",
              "      <td>Unknown</td>\n",
              "    </tr>\n",
              "    <tr>\n",
              "      <th>7324390</th>\n",
              "      <td>11374</td>\n",
              "      <td>U</td>\n",
              "      <td>Unknown</td>\n",
              "    </tr>\n",
              "    <tr>\n",
              "      <th>7368166</th>\n",
              "      <td>11218</td>\n",
              "      <td>U</td>\n",
              "      <td>Unknown</td>\n",
              "    </tr>\n",
              "    <tr>\n",
              "      <th>7295875</th>\n",
              "      <td>11106</td>\n",
              "      <td>U</td>\n",
              "      <td>Unknown</td>\n",
              "    </tr>\n",
              "    <tr>\n",
              "      <th>7236727</th>\n",
              "      <td>10019</td>\n",
              "      <td>U</td>\n",
              "      <td>Unknown</td>\n",
              "    </tr>\n",
              "  </tbody>\n",
              "</table>\n",
              "</div>"
            ],
            "text/plain": [
              "           rest_zip rest_grade rest_name\n",
              "rental_id                               \n",
              "7212049       10024          U   Unknown\n",
              "7468666       10025          U   Unknown\n",
              "7368778       11211          U   Unknown\n",
              "7466563       11102          U   Unknown\n",
              "7237981       10011          U   Unknown\n",
              "7321381       11213          U   Unknown\n",
              "7324390       11374          U   Unknown\n",
              "7368166       11218          U   Unknown\n",
              "7295875       11106          U   Unknown\n",
              "7236727       10019          U   Unknown"
            ]
          },
          "metadata": {
            "tags": []
          },
          "execution_count": 10
        }
      ]
    },
    {
      "cell_type": "code",
      "metadata": {
        "id": "Io5Ap2f081oB",
        "colab_type": "code",
        "colab": {}
      },
      "source": [
        "#matching zip codes with restaurant zip code and copying grade and name\n",
        "#this takes few minutes\n",
        "#rental records: 14000\n",
        "#restaurant records: 496\n",
        "for i in range(14000):\n",
        "    for j in range(496):\n",
        "        if tempdf.iloc[i,0]==int(trnexdf.iloc[j,1]):\n",
        "                    tempdf.iloc[i,1]=trnexdf.iloc[j,2]\n",
        "                    tempdf.iloc[i,2]=trnexdf.iloc[j,0]\n",
        "                    break"
      ],
      "execution_count": 0,
      "outputs": []
    },
    {
      "cell_type": "code",
      "metadata": {
        "id": "1w58E8XM_EGV",
        "colab_type": "code",
        "colab": {
          "base_uri": "https://localhost:8080/",
          "height": 51
        },
        "outputId": "cc5f4d09-0d26-4a8a-f3b0-c113cff90d09"
      },
      "source": [
        "print(\"Amount of Rentals that doesn't have restaurant records\")\n",
        "print(tempdf[tempdf.rest_grade == 'U'].shape)"
      ],
      "execution_count": 16,
      "outputs": [
        {
          "output_type": "stream",
          "text": [
            "Amount of Rentals that doesn't have restaurant records\n",
            "(747, 3)\n"
          ],
          "name": "stdout"
        }
      ]
    },
    {
      "cell_type": "code",
      "metadata": {
        "id": "sPMJ2vrP_e0f",
        "colab_type": "code",
        "colab": {
          "base_uri": "https://localhost:8080/",
          "height": 527
        },
        "outputId": "96634427-1af9-4f9f-e541-f616f8a5905d"
      },
      "source": [
        "#joining external data with training data\n",
        "#now we can see restaurants name and grade corresponding to zip code\n",
        "master_df=master_df.assign(rest_zip=tempdf[\"rest_zip\"])\n",
        "master_df=master_df.assign(rest_grade=tempdf[\"rest_grade\"])\n",
        "master_df=master_df.assign(rest_name=tempdf[\"rest_name\"])\n",
        "print(\"Find your Favourite Restaurant in your neighborhood\")\n",
        "master_df.sample(5)"
      ],
      "execution_count": 18,
      "outputs": [
        {
          "output_type": "stream",
          "text": [
            "Find your Favourite Restaurant in your neighborhood\n"
          ],
          "name": "stdout"
        },
        {
          "output_type": "execute_result",
          "data": {
            "text/html": [
              "<div>\n",
              "<style scoped>\n",
              "    .dataframe tbody tr th:only-of-type {\n",
              "        vertical-align: middle;\n",
              "    }\n",
              "\n",
              "    .dataframe tbody tr th {\n",
              "        vertical-align: top;\n",
              "    }\n",
              "\n",
              "    .dataframe thead th {\n",
              "        text-align: right;\n",
              "    }\n",
              "</style>\n",
              "<table border=\"1\" class=\"dataframe\">\n",
              "  <thead>\n",
              "    <tr style=\"text-align: right;\">\n",
              "      <th></th>\n",
              "      <th>addr_unit</th>\n",
              "      <th>building_id</th>\n",
              "      <th>bedrooms</th>\n",
              "      <th>bathrooms</th>\n",
              "      <th>size_sqft</th>\n",
              "      <th>created_at</th>\n",
              "      <th>addr_street</th>\n",
              "      <th>addr_city</th>\n",
              "      <th>addr_zip</th>\n",
              "      <th>addr_lat</th>\n",
              "      <th>addr_lon</th>\n",
              "      <th>bin</th>\n",
              "      <th>bbl</th>\n",
              "      <th>floor_count</th>\n",
              "      <th>year_built</th>\n",
              "      <th>min_to_subway</th>\n",
              "      <th>has_doorman</th>\n",
              "      <th>has_elevator</th>\n",
              "      <th>has_fireplace</th>\n",
              "      <th>has_dishwasher</th>\n",
              "      <th>is_furnished</th>\n",
              "      <th>has_gym</th>\n",
              "      <th>allows_pets</th>\n",
              "      <th>has_washer_dryer</th>\n",
              "      <th>has_garage</th>\n",
              "      <th>has_roofdeck</th>\n",
              "      <th>has_concierge</th>\n",
              "      <th>has_pool</th>\n",
              "      <th>has_garden</th>\n",
              "      <th>has_childrens_playroom</th>\n",
              "      <th>rent</th>\n",
              "      <th>no_fee</th>\n",
              "      <th>description</th>\n",
              "      <th>neighborhood</th>\n",
              "      <th>borough</th>\n",
              "      <th>unit</th>\n",
              "      <th>floornumber</th>\n",
              "      <th>line</th>\n",
              "      <th>predicted</th>\n",
              "      <th>rest_zip</th>\n",
              "      <th>rest_grade</th>\n",
              "      <th>rest_name</th>\n",
              "    </tr>\n",
              "    <tr>\n",
              "      <th>rental_id</th>\n",
              "      <th></th>\n",
              "      <th></th>\n",
              "      <th></th>\n",
              "      <th></th>\n",
              "      <th></th>\n",
              "      <th></th>\n",
              "      <th></th>\n",
              "      <th></th>\n",
              "      <th></th>\n",
              "      <th></th>\n",
              "      <th></th>\n",
              "      <th></th>\n",
              "      <th></th>\n",
              "      <th></th>\n",
              "      <th></th>\n",
              "      <th></th>\n",
              "      <th></th>\n",
              "      <th></th>\n",
              "      <th></th>\n",
              "      <th></th>\n",
              "      <th></th>\n",
              "      <th></th>\n",
              "      <th></th>\n",
              "      <th></th>\n",
              "      <th></th>\n",
              "      <th></th>\n",
              "      <th></th>\n",
              "      <th></th>\n",
              "      <th></th>\n",
              "      <th></th>\n",
              "      <th></th>\n",
              "      <th></th>\n",
              "      <th></th>\n",
              "      <th></th>\n",
              "      <th></th>\n",
              "      <th></th>\n",
              "      <th></th>\n",
              "      <th></th>\n",
              "      <th></th>\n",
              "      <th></th>\n",
              "      <th></th>\n",
              "      <th></th>\n",
              "    </tr>\n",
              "  </thead>\n",
              "  <tbody>\n",
              "    <tr>\n",
              "      <th>7421326</th>\n",
              "      <td>#4A</td>\n",
              "      <td>34537</td>\n",
              "      <td>2</td>\n",
              "      <td>2.0</td>\n",
              "      <td>1228.0</td>\n",
              "      <td>2018-07-30 12:03:34</td>\n",
              "      <td>345 WEST 14 STREET</td>\n",
              "      <td>New York</td>\n",
              "      <td>10014</td>\n",
              "      <td>40.740898</td>\n",
              "      <td>-74.004402</td>\n",
              "      <td>1013007.0</td>\n",
              "      <td>1007387504</td>\n",
              "      <td>11.0</td>\n",
              "      <td>1960.0</td>\n",
              "      <td>1.9833</td>\n",
              "      <td>1</td>\n",
              "      <td>1</td>\n",
              "      <td>0</td>\n",
              "      <td>0</td>\n",
              "      <td>0</td>\n",
              "      <td>1</td>\n",
              "      <td>0</td>\n",
              "      <td>1</td>\n",
              "      <td>0</td>\n",
              "      <td>1</td>\n",
              "      <td>1</td>\n",
              "      <td>0</td>\n",
              "      <td>0</td>\n",
              "      <td>0</td>\n",
              "      <td>9950</td>\n",
              "      <td>0</td>\n",
              "      <td>Developed and conceived by DDG, 345meatpacking...</td>\n",
              "      <td>Chelsea</td>\n",
              "      <td>Manhattan</td>\n",
              "      <td>4A</td>\n",
              "      <td>4.0</td>\n",
              "      <td>A</td>\n",
              "      <td>NaN</td>\n",
              "      <td>10014</td>\n",
              "      <td>A</td>\n",
              "      <td>MOUSTACHE RESTAURANT</td>\n",
              "    </tr>\n",
              "    <tr>\n",
              "      <th>7398538</th>\n",
              "      <td>#4B</td>\n",
              "      <td>57577</td>\n",
              "      <td>2</td>\n",
              "      <td>2.0</td>\n",
              "      <td>1149.0</td>\n",
              "      <td>2018-07-24 16:50:41</td>\n",
              "      <td>104 WEST 70 STREET</td>\n",
              "      <td>New York</td>\n",
              "      <td>10023</td>\n",
              "      <td>40.776001</td>\n",
              "      <td>-73.980202</td>\n",
              "      <td>1029665.0</td>\n",
              "      <td>1011417501</td>\n",
              "      <td>11.0</td>\n",
              "      <td>1903.0</td>\n",
              "      <td>2.9500</td>\n",
              "      <td>1</td>\n",
              "      <td>1</td>\n",
              "      <td>0</td>\n",
              "      <td>1</td>\n",
              "      <td>0</td>\n",
              "      <td>0</td>\n",
              "      <td>1</td>\n",
              "      <td>0</td>\n",
              "      <td>0</td>\n",
              "      <td>0</td>\n",
              "      <td>0</td>\n",
              "      <td>0</td>\n",
              "      <td>0</td>\n",
              "      <td>0</td>\n",
              "      <td>6750</td>\n",
              "      <td>0</td>\n",
              "      <td>New to market __ large split two bedroom with ...</td>\n",
              "      <td>Upper West Side</td>\n",
              "      <td>Manhattan</td>\n",
              "      <td>4B</td>\n",
              "      <td>4.0</td>\n",
              "      <td>B</td>\n",
              "      <td>NaN</td>\n",
              "      <td>10023</td>\n",
              "      <td>A</td>\n",
              "      <td>PICK-A-BAGEL/DUMPLING ROOM</td>\n",
              "    </tr>\n",
              "    <tr>\n",
              "      <th>7137766</th>\n",
              "      <td>#1P</td>\n",
              "      <td>18180889</td>\n",
              "      <td>2</td>\n",
              "      <td>2.0</td>\n",
              "      <td>1800.0</td>\n",
              "      <td>2018-05-02 12:23:12</td>\n",
              "      <td>350 LINCOLN PLACE</td>\n",
              "      <td>Brooklyn</td>\n",
              "      <td>11238</td>\n",
              "      <td>40.673000</td>\n",
              "      <td>-73.964798</td>\n",
              "      <td>3341924.0</td>\n",
              "      <td>3011790027</td>\n",
              "      <td>0.0</td>\n",
              "      <td>NaN</td>\n",
              "      <td>1.8667</td>\n",
              "      <td>0</td>\n",
              "      <td>1</td>\n",
              "      <td>0</td>\n",
              "      <td>1</td>\n",
              "      <td>0</td>\n",
              "      <td>0</td>\n",
              "      <td>0</td>\n",
              "      <td>0</td>\n",
              "      <td>0</td>\n",
              "      <td>0</td>\n",
              "      <td>0</td>\n",
              "      <td>0</td>\n",
              "      <td>1</td>\n",
              "      <td>0</td>\n",
              "      <td>3300</td>\n",
              "      <td>0</td>\n",
              "      <td>MASSIVE 2 BEDROOM 2.5 BATH DUPLEX APARTMENT WI...</td>\n",
              "      <td>Prospect Heights</td>\n",
              "      <td>Brooklyn</td>\n",
              "      <td>1P</td>\n",
              "      <td>1.0</td>\n",
              "      <td>P</td>\n",
              "      <td>NaN</td>\n",
              "      <td>11238</td>\n",
              "      <td>A</td>\n",
              "      <td>ISLAND CZ CAFE</td>\n",
              "    </tr>\n",
              "    <tr>\n",
              "      <th>7149391</th>\n",
              "      <td>#6F</td>\n",
              "      <td>18721537</td>\n",
              "      <td>3</td>\n",
              "      <td>1.0</td>\n",
              "      <td>950.0</td>\n",
              "      <td>2018-05-04 23:03:51</td>\n",
              "      <td>420 EAST 102 STREET</td>\n",
              "      <td>New York</td>\n",
              "      <td>10029</td>\n",
              "      <td>40.786430</td>\n",
              "      <td>-73.941498</td>\n",
              "      <td>1083931.0</td>\n",
              "      <td>1016940005</td>\n",
              "      <td>13.0</td>\n",
              "      <td>1973.0</td>\n",
              "      <td>5.8167</td>\n",
              "      <td>0</td>\n",
              "      <td>1</td>\n",
              "      <td>0</td>\n",
              "      <td>1</td>\n",
              "      <td>0</td>\n",
              "      <td>0</td>\n",
              "      <td>1</td>\n",
              "      <td>0</td>\n",
              "      <td>1</td>\n",
              "      <td>0</td>\n",
              "      <td>0</td>\n",
              "      <td>0</td>\n",
              "      <td>0</td>\n",
              "      <td>0</td>\n",
              "      <td>3500</td>\n",
              "      <td>1</td>\n",
              "      <td>Brand New To Market! Huge Upper East 3Bedroom ...</td>\n",
              "      <td>East Harlem</td>\n",
              "      <td>Manhattan</td>\n",
              "      <td>6F</td>\n",
              "      <td>6.0</td>\n",
              "      <td>F</td>\n",
              "      <td>NaN</td>\n",
              "      <td>10029</td>\n",
              "      <td>A</td>\n",
              "      <td>EMPIRE CORNER II</td>\n",
              "    </tr>\n",
              "    <tr>\n",
              "      <th>7241941</th>\n",
              "      <td>#5I</td>\n",
              "      <td>87880</td>\n",
              "      <td>0</td>\n",
              "      <td>1.0</td>\n",
              "      <td>482.0</td>\n",
              "      <td>2018-06-05 16:08:43</td>\n",
              "      <td>400 EAST 90 STREET</td>\n",
              "      <td>New York</td>\n",
              "      <td>10128</td>\n",
              "      <td>40.779099</td>\n",
              "      <td>-73.947304</td>\n",
              "      <td>1087460.0</td>\n",
              "      <td>1015697503</td>\n",
              "      <td>23.0</td>\n",
              "      <td>1999.0</td>\n",
              "      <td>8.3833</td>\n",
              "      <td>1</td>\n",
              "      <td>1</td>\n",
              "      <td>0</td>\n",
              "      <td>1</td>\n",
              "      <td>0</td>\n",
              "      <td>1</td>\n",
              "      <td>0</td>\n",
              "      <td>0</td>\n",
              "      <td>1</td>\n",
              "      <td>0</td>\n",
              "      <td>0</td>\n",
              "      <td>0</td>\n",
              "      <td>0</td>\n",
              "      <td>1</td>\n",
              "      <td>2500</td>\n",
              "      <td>0</td>\n",
              "      <td>Available for August 1st Occupancy. This quiet...</td>\n",
              "      <td>Upper East Side</td>\n",
              "      <td>Manhattan</td>\n",
              "      <td>5I</td>\n",
              "      <td>5.0</td>\n",
              "      <td>I</td>\n",
              "      <td>NaN</td>\n",
              "      <td>10128</td>\n",
              "      <td>A</td>\n",
              "      <td>STELLA AND FLY</td>\n",
              "    </tr>\n",
              "  </tbody>\n",
              "</table>\n",
              "</div>"
            ],
            "text/plain": [
              "          addr_unit  building_id  ...  rest_grade                   rest_name\n",
              "rental_id                         ...                                        \n",
              "7421326         #4A        34537  ...           A        MOUSTACHE RESTAURANT\n",
              "7398538         #4B        57577  ...           A  PICK-A-BAGEL/DUMPLING ROOM\n",
              "7137766         #1P     18180889  ...           A              ISLAND CZ CAFE\n",
              "7149391         #6F     18721537  ...           A            EMPIRE CORNER II\n",
              "7241941         #5I        87880  ...           A              STELLA AND FLY\n",
              "\n",
              "[5 rows x 42 columns]"
            ]
          },
          "metadata": {
            "tags": []
          },
          "execution_count": 18
        }
      ]
    },
    {
      "cell_type": "code",
      "metadata": {
        "id": "T9xR7p0XthW1",
        "colab_type": "code",
        "outputId": "a18024b9-4b99-46ea-c262-e250c72f278f",
        "colab": {
          "base_uri": "https://localhost:8080/",
          "height": 34
        }
      },
      "source": [
        "new_feature_cols = [\n",
        "    'bedrooms', 'year_built', 'bathrooms', 'min_to_subway', \n",
        "    'size_sqft', 'no_fee', 'has_doorman',\n",
        "    'addr_zip','floor_count',\t\n",
        "    'has_gym','allows_pets',\n",
        "    'has_concierge',\n",
        "    #'rest_grade' #Error could not convert string to float: 'B'\n",
        "]\n",
        "master_features = master_df[new_feature_cols].fillna(master_df[new_feature_cols].median(), axis=0)\n",
        "master_target = master_df['rent']\n",
        "#linear regression\n",
        "#lreg.fit(master_features, master_target)\n",
        "\n",
        "#Train the model\n",
        "#Random Forest Regressor\n",
        "rf.fit(master_features, master_target)\n",
        "\n",
        "#test3 size\n",
        "print(submit1_df.shape)"
      ],
      "execution_count": 32,
      "outputs": [
        {
          "output_type": "stream",
          "text": [
            "(2000, 38)\n"
          ],
          "name": "stdout"
        }
      ]
    },
    {
      "cell_type": "code",
      "metadata": {
        "id": "7XPgL7-NFUNg",
        "colab_type": "code",
        "colab": {
          "base_uri": "https://localhost:8080/",
          "height": 34
        },
        "outputId": "db6bd8e0-5726-4f46-c47c-61d8169bfbe4"
      },
      "source": [
        "#building temporary dataframe to join to test3\n",
        "tfeat=['addr_zip','description','has_dishwasher']\n",
        "temp2df=submit1_df[tfeat]\n",
        "temp2df.sample(5)\n",
        "print(temp2df.shape)"
      ],
      "execution_count": 49,
      "outputs": [
        {
          "output_type": "stream",
          "text": [
            "(2000, 3)\n"
          ],
          "name": "stdout"
        }
      ]
    },
    {
      "cell_type": "code",
      "metadata": {
        "id": "096TdjojGLWP",
        "colab_type": "code",
        "colab": {
          "base_uri": "https://localhost:8080/",
          "height": 139
        },
        "outputId": "61f28465-eb8b-49df-9029-1ddbb61421d3"
      },
      "source": [
        "#filling temporary data frame value\n",
        "for i in range(2000):\n",
        "         temp2df.iloc[i,1]='U'\n",
        "         temp2df.iloc[i,2]='Unknown'"
      ],
      "execution_count": 50,
      "outputs": [
        {
          "output_type": "stream",
          "text": [
            "/usr/local/lib/python3.6/dist-packages/pandas/core/indexing.py:494: SettingWithCopyWarning: \n",
            "A value is trying to be set on a copy of a slice from a DataFrame.\n",
            "Try using .loc[row_indexer,col_indexer] = value instead\n",
            "\n",
            "See the caveats in the documentation: http://pandas.pydata.org/pandas-docs/stable/user_guide/indexing.html#returning-a-view-versus-a-copy\n",
            "  self.obj[item] = s\n"
          ],
          "name": "stderr"
        }
      ]
    },
    {
      "cell_type": "code",
      "metadata": {
        "id": "w8SVy8eWGYxu",
        "colab_type": "code",
        "colab": {
          "base_uri": "https://localhost:8080/",
          "height": 235
        },
        "outputId": "8524c2b1-80e4-46e0-ec64-5e649889a602"
      },
      "source": [
        "#renaming column names and validating\n",
        "temp2df=temp2df.rename(columns={\"addr_zip\": \"rest_zip\", \"description\": \"rest_grade\", \"has_dishwasher\": \"rest_name\"}, errors=\"raise\")\n",
        "temp2df.sample(5)"
      ],
      "execution_count": 51,
      "outputs": [
        {
          "output_type": "execute_result",
          "data": {
            "text/html": [
              "<div>\n",
              "<style scoped>\n",
              "    .dataframe tbody tr th:only-of-type {\n",
              "        vertical-align: middle;\n",
              "    }\n",
              "\n",
              "    .dataframe tbody tr th {\n",
              "        vertical-align: top;\n",
              "    }\n",
              "\n",
              "    .dataframe thead th {\n",
              "        text-align: right;\n",
              "    }\n",
              "</style>\n",
              "<table border=\"1\" class=\"dataframe\">\n",
              "  <thead>\n",
              "    <tr style=\"text-align: right;\">\n",
              "      <th></th>\n",
              "      <th>rest_zip</th>\n",
              "      <th>rest_grade</th>\n",
              "      <th>rest_name</th>\n",
              "    </tr>\n",
              "    <tr>\n",
              "      <th>rental_id</th>\n",
              "      <th></th>\n",
              "      <th></th>\n",
              "      <th></th>\n",
              "    </tr>\n",
              "  </thead>\n",
              "  <tbody>\n",
              "    <tr>\n",
              "      <th>7484248</th>\n",
              "      <td>10039</td>\n",
              "      <td>U</td>\n",
              "      <td>Unknown</td>\n",
              "    </tr>\n",
              "    <tr>\n",
              "      <th>7441153</th>\n",
              "      <td>11365</td>\n",
              "      <td>U</td>\n",
              "      <td>Unknown</td>\n",
              "    </tr>\n",
              "    <tr>\n",
              "      <th>7442155</th>\n",
              "      <td>10001</td>\n",
              "      <td>U</td>\n",
              "      <td>Unknown</td>\n",
              "    </tr>\n",
              "    <tr>\n",
              "      <th>7441720</th>\n",
              "      <td>10019</td>\n",
              "      <td>U</td>\n",
              "      <td>Unknown</td>\n",
              "    </tr>\n",
              "    <tr>\n",
              "      <th>7497190</th>\n",
              "      <td>10024</td>\n",
              "      <td>U</td>\n",
              "      <td>Unknown</td>\n",
              "    </tr>\n",
              "  </tbody>\n",
              "</table>\n",
              "</div>"
            ],
            "text/plain": [
              "           rest_zip rest_grade rest_name\n",
              "rental_id                               \n",
              "7484248       10039          U   Unknown\n",
              "7441153       11365          U   Unknown\n",
              "7442155       10001          U   Unknown\n",
              "7441720       10019          U   Unknown\n",
              "7497190       10024          U   Unknown"
            ]
          },
          "metadata": {
            "tags": []
          },
          "execution_count": 51
        }
      ]
    },
    {
      "cell_type": "code",
      "metadata": {
        "id": "J6iWQ-EiEpGt",
        "colab_type": "code",
        "colab": {}
      },
      "source": [
        "#matching test3 zip codes with restaurant zip code and copying grade and name\n",
        "#this takes few minutes\n",
        "#rental records: 2000\n",
        "#restaurant records: 496\n",
        "for i in range(2000):\n",
        "    for j in range(496):\n",
        "        if temp2df.iloc[i,0]==int(trnexdf.iloc[j,1]):\n",
        "                    temp2df.iloc[i,1]=trnexdf.iloc[j,2]\n",
        "                    temp2df.iloc[i,2]=trnexdf.iloc[j,0]\n",
        "                    break"
      ],
      "execution_count": 0,
      "outputs": []
    },
    {
      "cell_type": "code",
      "metadata": {
        "id": "R8FdE_n0HgtN",
        "colab_type": "code",
        "colab": {
          "base_uri": "https://localhost:8080/",
          "height": 510
        },
        "outputId": "c258980b-5618-421b-e6b0-b74ab239e1cd"
      },
      "source": [
        "#assigning restaurant table to test3 \n",
        "submit1_df=submit1_df.assign(rest_zip=temp2df[\"rest_zip\"])\n",
        "submit1_df=submit1_df.assign(rest_grade=temp2df[\"rest_grade\"])\n",
        "submit1_df=submit1_df.assign(rest_name=temp2df[\"rest_name\"])\n",
        "\n",
        "print(\"Find Your Favourite Restaurant\")\n",
        "submit1_df.sample(5)"
      ],
      "execution_count": 54,
      "outputs": [
        {
          "output_type": "stream",
          "text": [
            "Find Your Favourite Restaurant\n"
          ],
          "name": "stdout"
        },
        {
          "output_type": "execute_result",
          "data": {
            "text/html": [
              "<div>\n",
              "<style scoped>\n",
              "    .dataframe tbody tr th:only-of-type {\n",
              "        vertical-align: middle;\n",
              "    }\n",
              "\n",
              "    .dataframe tbody tr th {\n",
              "        vertical-align: top;\n",
              "    }\n",
              "\n",
              "    .dataframe thead th {\n",
              "        text-align: right;\n",
              "    }\n",
              "</style>\n",
              "<table border=\"1\" class=\"dataframe\">\n",
              "  <thead>\n",
              "    <tr style=\"text-align: right;\">\n",
              "      <th></th>\n",
              "      <th>addr_unit</th>\n",
              "      <th>building_id</th>\n",
              "      <th>bedrooms</th>\n",
              "      <th>bathrooms</th>\n",
              "      <th>size_sqft</th>\n",
              "      <th>created_at</th>\n",
              "      <th>addr_street</th>\n",
              "      <th>addr_city</th>\n",
              "      <th>addr_zip</th>\n",
              "      <th>addr_lat</th>\n",
              "      <th>addr_lon</th>\n",
              "      <th>bin</th>\n",
              "      <th>bbl</th>\n",
              "      <th>floor_count</th>\n",
              "      <th>year_built</th>\n",
              "      <th>min_to_subway</th>\n",
              "      <th>has_doorman</th>\n",
              "      <th>has_elevator</th>\n",
              "      <th>has_fireplace</th>\n",
              "      <th>has_dishwasher</th>\n",
              "      <th>is_furnished</th>\n",
              "      <th>has_gym</th>\n",
              "      <th>allows_pets</th>\n",
              "      <th>has_washer_dryer</th>\n",
              "      <th>has_garage</th>\n",
              "      <th>has_roofdeck</th>\n",
              "      <th>has_concierge</th>\n",
              "      <th>has_pool</th>\n",
              "      <th>has_garden</th>\n",
              "      <th>has_childrens_playroom</th>\n",
              "      <th>rent</th>\n",
              "      <th>no_fee</th>\n",
              "      <th>description</th>\n",
              "      <th>neighborhood</th>\n",
              "      <th>borough</th>\n",
              "      <th>unit</th>\n",
              "      <th>floornumber</th>\n",
              "      <th>line</th>\n",
              "      <th>rest_zip</th>\n",
              "      <th>rest_grade</th>\n",
              "      <th>rest_name</th>\n",
              "    </tr>\n",
              "    <tr>\n",
              "      <th>rental_id</th>\n",
              "      <th></th>\n",
              "      <th></th>\n",
              "      <th></th>\n",
              "      <th></th>\n",
              "      <th></th>\n",
              "      <th></th>\n",
              "      <th></th>\n",
              "      <th></th>\n",
              "      <th></th>\n",
              "      <th></th>\n",
              "      <th></th>\n",
              "      <th></th>\n",
              "      <th></th>\n",
              "      <th></th>\n",
              "      <th></th>\n",
              "      <th></th>\n",
              "      <th></th>\n",
              "      <th></th>\n",
              "      <th></th>\n",
              "      <th></th>\n",
              "      <th></th>\n",
              "      <th></th>\n",
              "      <th></th>\n",
              "      <th></th>\n",
              "      <th></th>\n",
              "      <th></th>\n",
              "      <th></th>\n",
              "      <th></th>\n",
              "      <th></th>\n",
              "      <th></th>\n",
              "      <th></th>\n",
              "      <th></th>\n",
              "      <th></th>\n",
              "      <th></th>\n",
              "      <th></th>\n",
              "      <th></th>\n",
              "      <th></th>\n",
              "      <th></th>\n",
              "      <th></th>\n",
              "      <th></th>\n",
              "      <th></th>\n",
              "    </tr>\n",
              "  </thead>\n",
              "  <tbody>\n",
              "    <tr>\n",
              "      <th>7497247</th>\n",
              "      <td>#3</td>\n",
              "      <td>205726</td>\n",
              "      <td>2</td>\n",
              "      <td>1.0</td>\n",
              "      <td>1100.0</td>\n",
              "      <td>2018-08-21 14:59:35</td>\n",
              "      <td>193 6 AVENUE</td>\n",
              "      <td>Brooklyn</td>\n",
              "      <td>11217</td>\n",
              "      <td>40.675873</td>\n",
              "      <td>-73.977331</td>\n",
              "      <td>3019844.0</td>\n",
              "      <td>3009540010</td>\n",
              "      <td>3.0</td>\n",
              "      <td>1920.0</td>\n",
              "      <td>3.8000</td>\n",
              "      <td>0</td>\n",
              "      <td>0</td>\n",
              "      <td>0</td>\n",
              "      <td>1</td>\n",
              "      <td>0</td>\n",
              "      <td>0</td>\n",
              "      <td>0</td>\n",
              "      <td>0</td>\n",
              "      <td>0</td>\n",
              "      <td>1</td>\n",
              "      <td>0</td>\n",
              "      <td>0</td>\n",
              "      <td>0</td>\n",
              "      <td>0</td>\n",
              "      <td>NaN</td>\n",
              "      <td>0</td>\n",
              "      <td>Upper duplex with PRIVATE ROOF DECK! Expansive...</td>\n",
              "      <td>Park Slope</td>\n",
              "      <td>Brooklyn</td>\n",
              "      <td>3</td>\n",
              "      <td>3.0</td>\n",
              "      <td>NaN</td>\n",
              "      <td>11217</td>\n",
              "      <td>A</td>\n",
              "      <td>New China Tung</td>\n",
              "    </tr>\n",
              "    <tr>\n",
              "      <th>7508305</th>\n",
              "      <td>#3</td>\n",
              "      <td>271690</td>\n",
              "      <td>1</td>\n",
              "      <td>1.0</td>\n",
              "      <td>850.0</td>\n",
              "      <td>2018-08-24 15:11:45</td>\n",
              "      <td>761 MACON STREET</td>\n",
              "      <td>Brooklyn</td>\n",
              "      <td>11233</td>\n",
              "      <td>40.684593</td>\n",
              "      <td>-73.921091</td>\n",
              "      <td>3040031.0</td>\n",
              "      <td>3014930048</td>\n",
              "      <td>2.0</td>\n",
              "      <td>1899.0</td>\n",
              "      <td>5.5500</td>\n",
              "      <td>0</td>\n",
              "      <td>0</td>\n",
              "      <td>1</td>\n",
              "      <td>0</td>\n",
              "      <td>0</td>\n",
              "      <td>0</td>\n",
              "      <td>0</td>\n",
              "      <td>0</td>\n",
              "      <td>0</td>\n",
              "      <td>0</td>\n",
              "      <td>0</td>\n",
              "      <td>0</td>\n",
              "      <td>0</td>\n",
              "      <td>0</td>\n",
              "      <td>NaN</td>\n",
              "      <td>0</td>\n",
              "      <td>Just listed is this very nice one bedroom apar...</td>\n",
              "      <td>Bedford-Stuyvesant</td>\n",
              "      <td>Brooklyn</td>\n",
              "      <td>3</td>\n",
              "      <td>3.0</td>\n",
              "      <td>NaN</td>\n",
              "      <td>11233</td>\n",
              "      <td>A</td>\n",
              "      <td>CROWN FRIED CHICKEN</td>\n",
              "    </tr>\n",
              "    <tr>\n",
              "      <th>7484248</th>\n",
              "      <td>#32</td>\n",
              "      <td>119050</td>\n",
              "      <td>2</td>\n",
              "      <td>1.0</td>\n",
              "      <td>800.0</td>\n",
              "      <td>2018-08-16 18:16:36</td>\n",
              "      <td>242 BRADHURST AVENUE</td>\n",
              "      <td>New York</td>\n",
              "      <td>10039</td>\n",
              "      <td>40.829027</td>\n",
              "      <td>-73.938636</td>\n",
              "      <td>1060892.0</td>\n",
              "      <td>1020470021</td>\n",
              "      <td>6.0</td>\n",
              "      <td>1910.0</td>\n",
              "      <td>0.5833</td>\n",
              "      <td>0</td>\n",
              "      <td>0</td>\n",
              "      <td>0</td>\n",
              "      <td>0</td>\n",
              "      <td>0</td>\n",
              "      <td>0</td>\n",
              "      <td>1</td>\n",
              "      <td>0</td>\n",
              "      <td>0</td>\n",
              "      <td>0</td>\n",
              "      <td>0</td>\n",
              "      <td>0</td>\n",
              "      <td>0</td>\n",
              "      <td>0</td>\n",
              "      <td>NaN</td>\n",
              "      <td>0</td>\n",
              "      <td>Renovated 3rd-floor walkup--Bright, renovated,...</td>\n",
              "      <td>Central Harlem</td>\n",
              "      <td>Manhattan</td>\n",
              "      <td>32</td>\n",
              "      <td>NaN</td>\n",
              "      <td>NaN</td>\n",
              "      <td>10039</td>\n",
              "      <td>C</td>\n",
              "      <td>JUMBO'S HAMBURGERS</td>\n",
              "    </tr>\n",
              "    <tr>\n",
              "      <th>7511584</th>\n",
              "      <td>#10F</td>\n",
              "      <td>18717808</td>\n",
              "      <td>3</td>\n",
              "      <td>1.0</td>\n",
              "      <td>932.0</td>\n",
              "      <td>2018-08-26 17:39:03</td>\n",
              "      <td>280 1 AVENUE</td>\n",
              "      <td>New York</td>\n",
              "      <td>10009</td>\n",
              "      <td>40.731701</td>\n",
              "      <td>-73.977898</td>\n",
              "      <td>1082870.0</td>\n",
              "      <td>1009720001</td>\n",
              "      <td>0.0</td>\n",
              "      <td>NaN</td>\n",
              "      <td>1.5667</td>\n",
              "      <td>0</td>\n",
              "      <td>1</td>\n",
              "      <td>0</td>\n",
              "      <td>1</td>\n",
              "      <td>0</td>\n",
              "      <td>0</td>\n",
              "      <td>1</td>\n",
              "      <td>0</td>\n",
              "      <td>1</td>\n",
              "      <td>0</td>\n",
              "      <td>0</td>\n",
              "      <td>0</td>\n",
              "      <td>0</td>\n",
              "      <td>0</td>\n",
              "      <td>NaN</td>\n",
              "      <td>1</td>\n",
              "      <td>OPEN HOUSE this Sunday, November 4th between 2...</td>\n",
              "      <td>Stuyvesant Town/PCV</td>\n",
              "      <td>Manhattan</td>\n",
              "      <td>10F</td>\n",
              "      <td>10.0</td>\n",
              "      <td>F</td>\n",
              "      <td>10009</td>\n",
              "      <td>P</td>\n",
              "      <td>CRIF DOGS / PLEASE DON'T TELL</td>\n",
              "    </tr>\n",
              "    <tr>\n",
              "      <th>7491046</th>\n",
              "      <td>#B1</td>\n",
              "      <td>129442</td>\n",
              "      <td>1</td>\n",
              "      <td>1.0</td>\n",
              "      <td>600.0</td>\n",
              "      <td>2018-08-19 13:28:19</td>\n",
              "      <td>20 BROADWAY TERRACE</td>\n",
              "      <td>New York</td>\n",
              "      <td>10040</td>\n",
              "      <td>40.857597</td>\n",
              "      <td>-73.930762</td>\n",
              "      <td>1064118.0</td>\n",
              "      <td>1021700557</td>\n",
              "      <td>4.0</td>\n",
              "      <td>1927.0</td>\n",
              "      <td>2.7000</td>\n",
              "      <td>0</td>\n",
              "      <td>0</td>\n",
              "      <td>0</td>\n",
              "      <td>0</td>\n",
              "      <td>0</td>\n",
              "      <td>0</td>\n",
              "      <td>1</td>\n",
              "      <td>0</td>\n",
              "      <td>0</td>\n",
              "      <td>0</td>\n",
              "      <td>0</td>\n",
              "      <td>0</td>\n",
              "      <td>0</td>\n",
              "      <td>0</td>\n",
              "      <td>NaN</td>\n",
              "      <td>1</td>\n",
              "      <td>No Fee!!!!\\r\\n\\r\\nGut Renovated 1 Bedroom Apar...</td>\n",
              "      <td>Washington Heights</td>\n",
              "      <td>Manhattan</td>\n",
              "      <td>B1</td>\n",
              "      <td>1.0</td>\n",
              "      <td>B</td>\n",
              "      <td>10040</td>\n",
              "      <td>B</td>\n",
              "      <td>BAKERY MOCANA</td>\n",
              "    </tr>\n",
              "  </tbody>\n",
              "</table>\n",
              "</div>"
            ],
            "text/plain": [
              "          addr_unit  building_id  ...  rest_grade                      rest_name\n",
              "rental_id                         ...                                           \n",
              "7497247          #3       205726  ...           A                 New China Tung\n",
              "7508305          #3       271690  ...           A            CROWN FRIED CHICKEN\n",
              "7484248         #32       119050  ...           C             JUMBO'S HAMBURGERS\n",
              "7511584        #10F     18717808  ...           P  CRIF DOGS / PLEASE DON'T TELL\n",
              "7491046         #B1       129442  ...           B                  BAKERY MOCANA\n",
              "\n",
              "[5 rows x 41 columns]"
            ]
          },
          "metadata": {
            "tags": []
          },
          "execution_count": 54
        }
      ]
    },
    {
      "cell_type": "code",
      "metadata": {
        "id": "zMs7I2FxtkcT",
        "colab_type": "code",
        "colab": {}
      },
      "source": [
        "#handling missing data\n",
        "submit1_features = submit1_df[new_feature_cols].fillna(master_df[new_feature_cols].median(), axis=0)\n"
      ],
      "execution_count": 0,
      "outputs": []
    },
    {
      "cell_type": "code",
      "metadata": {
        "id": "4jv34d7otmku",
        "colab_type": "code",
        "colab": {}
      },
      "source": [
        "#predict the rent for test3\n",
        "submit1_df['rent'] = rf.predict(submit1_features)\n",
        "submit1_df['rent'].to_csv('test3.csv', header=True)\n",
        "#compare mean squared"
      ],
      "execution_count": 0,
      "outputs": []
    },
    {
      "cell_type": "code",
      "metadata": {
        "id": "ucZ7fgf8tsmd",
        "colab_type": "code",
        "outputId": "c708fe49-77c8-4346-d8ee-0b21bb42ac1d",
        "colab": {
          "base_uri": "https://localhost:8080/",
          "height": 221
        }
      },
      "source": [
        "submit1_df['rent'].sample(10)"
      ],
      "execution_count": 57,
      "outputs": [
        {
          "output_type": "execute_result",
          "data": {
            "text/plain": [
              "rental_id\n",
              "7502446    3003.333333\n",
              "7467976    4452.500000\n",
              "7477273    3097.700000\n",
              "7445347    2094.900000\n",
              "7465903    2469.900000\n",
              "7438519    2597.000000\n",
              "7509568    1674.500000\n",
              "7489822    1900.000000\n",
              "7444924    3111.000000\n",
              "7433215    4334.000000\n",
              "Name: rent, dtype: float64"
            ]
          },
          "metadata": {
            "tags": []
          },
          "execution_count": 57
        }
      ]
    },
    {
      "cell_type": "code",
      "metadata": {
        "id": "ztZPDZ5Otvr1",
        "colab_type": "code",
        "outputId": "8ca2ecda-096e-43c1-ec0b-bcaba066b678",
        "colab": {
          "base_uri": "https://localhost:8080/",
          "height": 1000
        }
      },
      "source": [
        "# Scatter plots of different features for test2 data: \n",
        "\n",
        "submit1_df.plot(kind='scatter',x='bedrooms',y='rent',color='red')\n",
        "plt.show()\n",
        "\n",
        "submit1_df.plot(kind='scatter',x='bathrooms',y='rent',color='blue')\n",
        "plt.show()\n",
        "\n",
        "submit1_df.plot(kind='scatter',x='floor_count',y='rent',color='green')\n",
        "plt.show()\n",
        "\n",
        "submit1_df.plot(kind='scatter',x='size_sqft',y='rent',color='orange')\n",
        "plt.show()\n",
        "\n",
        "submit1_df.plot(kind='scatter',x='year_built',y='rent',color='gray')\n",
        "plt.show()\n",
        "\n",
        "submit1_df.plot(kind='scatter',x='min_to_subway',y='rent',color='purple')\n",
        "plt.show()\n",
        "\n",
        "#lines = submit1_df.plot.line(x='bedrooms',y='rent')"
      ],
      "execution_count": 58,
      "outputs": [
        {
          "output_type": "display_data",
          "data": {
            "image/png": "[encoded data removed]",
            "text/plain": [
              "<Figure size 432x288 with 1 Axes>"
            ]
          },
          "metadata": {
            "tags": []
          }
        },
        {
          "output_type": "display_data",
          "data": {
            "image/png": "[encoded data removed]",
            "text/plain": [
              "<Figure size 432x288 with 1 Axes>"
            ]
          },
          "metadata": {
            "tags": []
          }
        },
        {
          "output_type": "display_data",
          "data": {
            "image/png": "[encoded data removed]",
            "text/plain": [
              "<Figure size 432x288 with 1 Axes>"
            ]
          },
          "metadata": {
            "tags": []
          }
        },
        {
          "output_type": "display_data",
          "data": {
            "image/png": "[encoded data removed]",
            "text/plain": [
              "<Figure size 432x288 with 1 Axes>"
            ]
          },
          "metadata": {
            "tags": []
          }
        },
        {
          "output_type": "display_data",
          "data": {
            "image/png": "[encoded data removed]",
            "text/plain": [
              "<Figure size 432x288 with 1 Axes>"
            ]
          },
          "metadata": {
            "tags": []
          }
        },
        {
          "output_type": "display_data",
          "data": {
            "image/png": "[encoded data removed]",
            "text/plain": [
              "<Figure size 432x288 with 1 Axes>"
            ]
          },
          "metadata": {
            "tags": []
          }
        }
      ]
    },
    {
      "cell_type": "code",
      "metadata": {
        "id": "cOHdl7yDtxUB",
        "colab_type": "code",
        "outputId": "3da4cb62-34a7-495f-f9fa-80dc40658e72",
        "colab": {
          "base_uri": "https://localhost:8080/",
          "height": 1000
        }
      },
      "source": [
        "# Scatter plots of different features for training data: \n",
        "\n",
        "master_df.plot(kind='scatter',x='bedrooms',y='rent',color='red')\n",
        "plt.show()\n",
        "\n",
        "master_df.plot(kind='scatter',x='bathrooms',y='rent',color='blue')\n",
        "plt.show()\n",
        "\n",
        "master_df.plot(kind='scatter',x='floor_count',y='rent',color='green')\n",
        "plt.show()\n",
        "\n",
        "master_df.plot(kind='scatter',x='size_sqft',y='rent',color='orange')\n",
        "plt.show()\n",
        "\n",
        "master_df.plot(kind='scatter',x='year_built',y='rent',color='gray')\n",
        "plt.show()\n",
        "\n",
        "master_df.plot(kind='scatter',x='min_to_subway',y='rent',color='purple')\n",
        "plt.show()\n",
        "\n",
        "\n"
      ],
      "execution_count": 59,
      "outputs": [
        {
          "output_type": "display_data",
          "data": {
            "image/png": "[encoded data removed]",
            "text/plain": [
              "<Figure size 432x288 with 1 Axes>"
            ]
          },
          "metadata": {
            "tags": []
          }
        },
        {
          "output_type": "display_data",
          "data": {
            "image/png": "[encoded data removed]",
            "text/plain": [
              "<Figure size 432x288 with 1 Axes>"
            ]
          },
          "metadata": {
            "tags": []
          }
        },
        {
          "output_type": "display_data",
          "data": {
            "image/png": "[encoded data removed]",
            "text/plain": [
              "<Figure size 432x288 with 1 Axes>"
            ]
          },
          "metadata": {
            "tags": []
          }
        },
        {
          "output_type": "display_data",
          "data": {
            "image/png": "[encoded data removed]",
            "text/plain": [
              "<Figure size 432x288 with 1 Axes>"
            ]
          },
          "metadata": {
            "tags": []
          }
        },
        {
          "output_type": "display_data",
          "data": {
            "image/png": "[encoded data removed]",
            "text/plain": [
              "<Figure size 432x288 with 1 Axes>"
            ]
          },
          "metadata": {
            "tags": []
          }
        },
        {
          "output_type": "display_data",
          "data": {
            "image/png": "[encoded data removed]",
            "text/plain": [
              "<Figure size 432x288 with 1 Axes>"
            ]
          },
          "metadata": {
            "tags": []
          }
        }
      ]
    },
    {
      "cell_type": "code",
      "metadata": {
        "id": "rX5zsAeZt0sb",
        "colab_type": "code",
        "outputId": "7cb86ac8-0aa2-41e2-ddce-6d2252038e53",
        "colab": {
          "base_uri": "https://localhost:8080/",
          "height": 295
        }
      },
      "source": [
        "ax = plt.gca()\n",
        "submit1_df.plot(kind='line',x='rent',y='bedrooms',title='Correlation of Bedrooms and Bathrooms vs Rent',ax=ax)\n",
        "submit1_df.plot(kind='line',x='rent',y='bathrooms', color='red', ax=ax)\n",
        "#submit1_df.plot(kind='line',x='rent',y='floornumber', color='green', ax=ax)\n",
        "plt.show()"
      ],
      "execution_count": 60,
      "outputs": [
        {
          "output_type": "display_data",
          "data": {
            "image/png": "[encoded data removed]",
            "text/plain": [
              "<Figure size 432x288 with 1 Axes>"
            ]
          },
          "metadata": {
            "tags": []
          }
        }
      ]
    },
    {
      "cell_type": "code",
      "metadata": {
        "id": "8VAbwGGGt3-E",
        "colab_type": "code",
        "outputId": "897b136b-ad12-47b9-b130-6bc81a3f903e",
        "colab": {
          "base_uri": "https://localhost:8080/",
          "height": 663
        }
      },
      "source": [
        "#OLS Regression Results for Testing2 Data\n",
        "# Add a constant to our existing dataframe for modeling purposes\n",
        "submit1_df = sm.add_constant(submit1_df)\n",
        "\n",
        "est = sm.OLS(submit1_df['rent'], \n",
        "             submit1_features[['bedrooms', 'year_built', 'bathrooms', 'min_to_subway','size_sqft', 'no_fee', 'has_doorman','addr_zip','floor_count','has_gym','allows_pets']]\n",
        "            ).fit()\n",
        "\n",
        "print(est.summary())\n",
        "\n"
      ],
      "execution_count": 61,
      "outputs": [
        {
          "output_type": "stream",
          "text": [
            "                                 OLS Regression Results                                \n",
            "=======================================================================================\n",
            "Dep. Variable:                   rent   R-squared (uncentered):                   0.895\n",
            "Model:                            OLS   Adj. R-squared (uncentered):              0.895\n",
            "Method:                 Least Squares   F-statistic:                              1545.\n",
            "Date:                Thu, 05 Dec 2019   Prob (F-statistic):                        0.00\n",
            "Time:                        22:21:12   Log-Likelihood:                         -17228.\n",
            "No. Observations:                2000   AIC:                                  3.448e+04\n",
            "Df Residuals:                    1989   BIC:                                  3.454e+04\n",
            "Df Model:                          11                                                  \n",
            "Covariance Type:            nonrobust                                                  \n",
            "=================================================================================\n",
            "                    coef    std err          t      P>|t|      [0.025      0.975]\n",
            "---------------------------------------------------------------------------------\n",
            "bedrooms        197.6549     36.089      5.477      0.000     126.878     268.431\n",
            "year_built        1.8152      0.175     10.358      0.000       1.472       2.159\n",
            "bathrooms      2003.9579     82.015     24.434      0.000    1843.114    2164.802\n",
            "min_to_subway    -0.0014      0.009     -0.149      0.881      -0.019       0.017\n",
            "size_sqft         1.7512      0.075     23.342      0.000       1.604       1.898\n",
            "no_fee         -225.2059     66.516     -3.386      0.001    -355.655     -94.757\n",
            "has_doorman     497.0101    103.073      4.822      0.000     294.869     699.152\n",
            "addr_zip         -0.4456      0.032    -14.140      0.000      -0.507      -0.384\n",
            "floor_count      20.9690      3.687      5.688      0.000      13.739      28.199\n",
            "has_gym         343.3202    104.815      3.275      0.001     137.762     548.878\n",
            "allows_pets     339.7446     64.819      5.241      0.000     212.624     466.865\n",
            "==============================================================================\n",
            "Omnibus:                     1961.416   Durbin-Watson:                   2.024\n",
            "Prob(Omnibus):                  0.000   Jarque-Bera (JB):           287558.951\n",
            "Skew:                           4.254   Prob(JB):                         0.00\n",
            "Kurtosis:                      61.123   Cond. No.                     4.51e+04\n",
            "==============================================================================\n",
            "\n",
            "Warnings:\n",
            "[1] Standard Errors assume that the covariance matrix of the errors is correctly specified.\n",
            "[2] The condition number is large, 4.51e+04. This might indicate that there are\n",
            "strong multicollinearity or other numerical problems.\n"
          ],
          "name": "stdout"
        },
        {
          "output_type": "stream",
          "text": [
            "/usr/local/lib/python3.6/dist-packages/numpy/core/fromnumeric.py:2495: FutureWarning: Method .ptp is deprecated and will be removed in a future version. Use numpy.ptp instead.\n",
            "  return ptp(axis=axis, out=out, **kwargs)\n"
          ],
          "name": "stderr"
        }
      ]
    },
    {
      "cell_type": "code",
      "metadata": {
        "id": "XI36Hywst7w3",
        "colab_type": "code",
        "outputId": "8d51481e-193a-43d9-dd5b-3cbc558a05f0",
        "colab": {
          "base_uri": "https://localhost:8080/",
          "height": 663
        }
      },
      "source": [
        "#OLS Regression Results for Trainin Data\n",
        "# Add a constant to our existing dataframe for modeling purposes\n",
        "master_df = sm.add_constant(master_df)\n",
        "\n",
        "est = sm.OLS(master_df['rent'], \n",
        "             master_features[['bedrooms', 'year_built', 'bathrooms', 'min_to_subway','size_sqft', 'no_fee', 'has_doorman','addr_zip','floor_count','has_gym','allows_pets']]\n",
        "            ).fit()\n",
        "\n",
        "print(est.summary())\n"
      ],
      "execution_count": 63,
      "outputs": [
        {
          "output_type": "stream",
          "text": [
            "                                 OLS Regression Results                                \n",
            "=======================================================================================\n",
            "Dep. Variable:                   rent   R-squared (uncentered):                   0.836\n",
            "Model:                            OLS   Adj. R-squared (uncentered):              0.836\n",
            "Method:                 Least Squares   F-statistic:                              6487.\n",
            "Date:                Thu, 05 Dec 2019   Prob (F-statistic):                        0.00\n",
            "Time:                        22:21:22   Log-Likelihood:                     -1.2528e+05\n",
            "No. Observations:               14000   AIC:                                  2.506e+05\n",
            "Df Residuals:                   13989   BIC:                                  2.507e+05\n",
            "Df Model:                          11                                                  \n",
            "Covariance Type:            nonrobust                                                  \n",
            "=================================================================================\n",
            "                    coef    std err          t      P>|t|      [0.025      0.975]\n",
            "---------------------------------------------------------------------------------\n",
            "bedrooms        145.6283     19.185      7.591      0.000     108.024     183.233\n",
            "year_built        1.4243      0.091     15.662      0.000       1.246       1.603\n",
            "bathrooms      1622.6973     36.597     44.340      0.000    1550.963    1694.432\n",
            "min_to_subway    -0.0023      0.006     -0.355      0.722      -0.015       0.010\n",
            "size_sqft         2.4718      0.040     61.379      0.000       2.393       2.551\n",
            "no_fee         -232.1212     34.133     -6.801      0.000    -299.026    -165.216\n",
            "has_doorman     569.6259     53.495     10.648      0.000     464.768     674.483\n",
            "addr_zip         -0.3815      0.016    -23.427      0.000      -0.413      -0.350\n",
            "floor_count      18.6267      1.911      9.749      0.000      14.882      22.372\n",
            "has_gym         498.2204     51.740      9.629      0.000     396.802     599.638\n",
            "allows_pets     297.7480     34.079      8.737      0.000     230.950     364.547\n",
            "==============================================================================\n",
            "Omnibus:                    13693.453   Durbin-Watson:                   2.023\n",
            "Prob(Omnibus):                  0.000   Jarque-Bera (JB):          3379523.106\n",
            "Skew:                           4.200   Prob(JB):                         0.00\n",
            "Kurtosis:                      78.650   Cond. No.                     4.32e+04\n",
            "==============================================================================\n",
            "\n",
            "Warnings:\n",
            "[1] Standard Errors assume that the covariance matrix of the errors is correctly specified.\n",
            "[2] The condition number is large, 4.32e+04. This might indicate that there are\n",
            "strong multicollinearity or other numerical problems.\n"
          ],
          "name": "stdout"
        },
        {
          "output_type": "stream",
          "text": [
            "/usr/local/lib/python3.6/dist-packages/numpy/core/fromnumeric.py:2495: FutureWarning: Method .ptp is deprecated and will be removed in a future version. Use numpy.ptp instead.\n",
            "  return ptp(axis=axis, out=out, **kwargs)\n"
          ],
          "name": "stderr"
        }
      ]
    }
  ]
}