{
  "nbformat": 4,
  "nbformat_minor": 0,
  "metadata": {
    "colab": {
      "name": "Final_Project.ipynb",
      "provenance": [],
      "collapsed_sections": [],
      "include_colab_link": true
    },
    "kernelspec": {
      "name": "python3",
      "display_name": "Python 3"
    }
  },
  "cells": [
    {
      "cell_type": "markdown",
      "metadata": {
        "id": "view-in-github",
        "colab_type": "text"
      },
      "source": [
        "<a href=\"https://colab.research.google.com/github/hislam000/CSC-599.70-Course-Project/blob/master/Final_Project.ipynb\" target=\"_parent\"><img src=\"https://colab.research.google.com/assets/colab-badge.svg\" alt=\"Open In Colab\"/></a>"
      ]
    },
    {
      "cell_type": "code",
      "metadata": {
        "id": "afIUKt4SgFiz",
        "colab_type": "code",
        "colab": {}
      },
      "source": [
        "# Intro to Data Science, Fall 2019 @ CCNY\n",
        "# CSC-599.70-Course-Project\n",
        "# Team Member & Name: RentAdvisor (3-Member)\n",
        "\n",
        "# HASIBUL ISLAM\n",
        "# DZHONIBEK PARMANKULOV\n",
        "# ABDUR RAFEY"
      ],
      "execution_count": 0,
      "outputs": []
    }
  ]
}